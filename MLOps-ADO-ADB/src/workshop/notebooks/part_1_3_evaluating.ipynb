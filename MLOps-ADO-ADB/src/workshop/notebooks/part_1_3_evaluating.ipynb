{
 "cells": [
  {
   "cell_type": "markdown",
   "metadata": {
    "application/vnd.databricks.v1+cell": {
     "cellMetadata": {},
     "inputWidgets": {},
     "nuid": "f775ddb6-7daf-4f9f-99fa-7fc024351b47",
     "showTitle": false,
     "title": ""
    }
   },
   "source": [
    "# Part 1: Evaluating\n",
    "\n",
    "The Part 1 Data Prep notebook handles data preparation and quality checking steps. \n",
    "\n",
    "The Part 1 Model Training notebook builds a model and writes metrics to MLflow. \n",
    "\n",
    "This notebook will handle the following steps:\n",
    "- Load the test data.\n",
    "- Load the model registered to staging in the training step.\n",
    "- Use the trained model to predict on the test data and generate model evaluation metrics.\n",
    "- If no prior trained model exists, the model will be registered as a baseline model in production.\n",
    "- If a production model is found, the evaluation metrics for that model will be compared against the newly trained model and if they surpass production, model will be registered to production.\n",
    "\n",
    "\n",
    "## Requirements\n",
    "This tutorial requires Databricks Runtime for Machine Learning."
   ]
  },
  {
   "cell_type": "code",
   "execution_count": null,
   "metadata": {
    "application/vnd.databricks.v1+cell": {
     "cellMetadata": {
      "byteLimit": 2048000,
      "rowLimit": 10000
     },
     "inputWidgets": {},
     "nuid": "6c08ac56-142f-4c14-84ea-59d56e1c95db",
     "showTitle": false,
     "title": ""
    }
   },
   "outputs": [],
   "source": [
    "# Multiple people may be running this workshop at the same time.  We want each\n",
    "# participant to have their own set of files.  To create your own file storage area,\n",
    "# put your name below:\n",
    "\n",
    "your_name = \"\"\n",
    "\n",
    "try: run_name = dbutils.widgets.get(\"run_name\")\n",
    "except: run_name = your_name.strip()\n",
    "run_name = \"no_name\" if run_name == \"\" else run_name"
   ]
  },
  {
   "cell_type": "code",
   "execution_count": null,
   "metadata": {
    "application/vnd.databricks.v1+cell": {
     "cellMetadata": {
      "byteLimit": 2048000,
      "rowLimit": 10000
     },
     "inputWidgets": {},
     "nuid": "c79dcf84-c3b4-43d7-a626-86fa258520ef",
     "showTitle": false,
     "title": ""
    }
   },
   "outputs": [],
   "source": [
    "# We need to know if this is running as part of a Continuous Integration or as part of a\n",
    "# Continuous Deployment.  Let's look for a flag that will tell us.\n",
    "devops_action = \"\"\n",
    "try: devops_action = dbutils.widgets.get(\"devops_action\")\n",
    "except: devops_action = \"unknown\"\n",
    "devops_action = devops_action.strip().upper()"
   ]
  },
  {
   "cell_type": "markdown",
   "metadata": {
    "application/vnd.databricks.v1+cell": {
     "cellMetadata": {},
     "inputWidgets": {},
     "nuid": "953f4f1f-405b-44e1-863b-600e6f2bc94f",
     "showTitle": false,
     "title": ""
    }
   },
   "source": [
    "### Load the prepared data"
   ]
  },
  {
   "cell_type": "code",
   "execution_count": null,
   "metadata": {
    "application/vnd.databricks.v1+cell": {
     "cellMetadata": {
      "byteLimit": 2048000,
      "rowLimit": 10000
     },
     "inputWidgets": {},
     "nuid": "4bf02fb6-5f66-4a73-a166-d51137f7509c",
     "showTitle": false,
     "title": ""
    }
   },
   "outputs": [],
   "source": [
    "import pandas as pd\n",
    "\n",
    "if devops_action == \"INTEGRATION\"  or devops_action == \"UNKNOWN\":\n",
    "  data = pd.read_csv(f\"/dbfs/tutorials/wine-data/{run_name}/wine-quality-all-prepped.csv\")\n",
    "  data = data.drop([\"Unnamed: 0\"], axis=1)\n",
    "elif devops_action == \"DEPLOYMENT\":\n",
    "  data = spark.read.format(\"delta\").load(\"dbfs:/tutorials/wine-data/delta\")\n",
    "  data = data.toPandas()\n",
    "\n",
    "# add in the corresponding parameter to the cd pipeline\n",
    "# and parameter handling in this notebook"
   ]
  },
  {
   "cell_type": "markdown",
   "metadata": {
    "application/vnd.databricks.v1+cell": {
     "cellMetadata": {},
     "inputWidgets": {},
     "nuid": "379abb9a-bd5b-46b9-8975-ce91858eba39",
     "showTitle": false,
     "title": ""
    }
   },
   "source": [
    "### Split dataset and use test dataset to measure trained model\n",
    "Split the input data into 3 sets:\n",
    "- Train (60% of the dataset used to train the model)\n",
    "- Validation (20% of the dataset used to tune the hyperparameters)\n",
    "- Test (20% of the dataset used to report the true performance of the model on an unseen dataset)\n",
    "\n",
    "We use the same seed as in the training notebook, and only the test dataset will be used in this model evaluation notebook."
   ]
  },
  {
   "cell_type": "code",
   "execution_count": null,
   "metadata": {
    "application/vnd.databricks.v1+cell": {
     "cellMetadata": {
      "byteLimit": 2048000,
      "rowLimit": 10000
     },
     "inputWidgets": {},
     "nuid": "e70c1c07-0048-4bb8-a0c3-17a7895bb4b2",
     "showTitle": false,
     "title": ""
    }
   },
   "outputs": [],
   "source": [
    "from sklearn.model_selection import train_test_split\n",
    "\n",
    "X = data.drop([\"quality\"], axis=1)\n",
    "y = data.quality\n",
    "\n",
    "# Split out the training data\n",
    "X_train, X_rem, y_train, y_rem = train_test_split(X, y, train_size=0.6, random_state=123)\n",
    "\n",
    "# Split the remaining data equally into validation and test\n",
    "X_val, X_test, y_val, y_test = train_test_split(X_rem, y_rem, test_size=0.5, random_state=123)"
   ]
  },
  {
   "cell_type": "markdown",
   "metadata": {
    "application/vnd.databricks.v1+cell": {
     "cellMetadata": {},
     "inputWidgets": {},
     "nuid": "224d0ddf-3925-4849-bc20-564175c212e8",
     "showTitle": false,
     "title": ""
    }
   },
   "source": [
    "### Load the staged model\n",
    "If the training notebook succeeds, it registers a model to staging. Load the model for comparison against the current production model."
   ]
  },
  {
   "cell_type": "code",
   "execution_count": null,
   "metadata": {
    "application/vnd.databricks.v1+cell": {
     "cellMetadata": {
      "byteLimit": 2048000,
      "rowLimit": 10000
     },
     "inputWidgets": {},
     "nuid": "46af6002-8063-4ada-b7e5-6ce56c22f60a",
     "showTitle": false,
     "title": ""
    }
   },
   "outputs": [],
   "source": [
    "import mlflow\n",
    "import mlflow.pyfunc\n",
    "from sklearn.metrics import roc_auc_score\n",
    "from mlflow.tracking import MlflowClient\n",
    "\n",
    "# to create your own version of the model, uncomment the next line, and comment the line after\n",
    "# model_name = f\"wine_quality-{run_name}\"\n",
    "model_name = \"wine_quality\"\n",
    "staged_model = mlflow.pyfunc.load_model(f\"models:/{model_name}/staging\")\n",
    "\n",
    "staged_model_auc = roc_auc_score(y_test, staged_model.predict(X_test))\n",
    "print(f'Current staged model AUC on test data: {staged_model_auc}')"
   ]
  },
  {
   "cell_type": "markdown",
   "metadata": {
    "application/vnd.databricks.v1+cell": {
     "cellMetadata": {},
     "inputWidgets": {},
     "nuid": "1655b27e-19cc-40bd-82d0-cddbb95261e4",
     "showTitle": false,
     "title": ""
    }
   },
   "source": [
    "### Load the current production model (if any)"
   ]
  },
  {
   "cell_type": "code",
   "execution_count": null,
   "metadata": {
    "application/vnd.databricks.v1+cell": {
     "cellMetadata": {
      "byteLimit": 2048000,
      "rowLimit": 10000
     },
     "inputWidgets": {},
     "nuid": "d91af6d7-b433-4878-aa70-1de36779ee48",
     "showTitle": false,
     "title": ""
    }
   },
   "outputs": [],
   "source": [
    "try: \n",
    "    production_model = mlflow.pyfunc.load_model(f\"models:/{model_name}/production\")\n",
    "except:\n",
    "    production_model = None\n",
    "    print(\"No current model in production\")    "
   ]
  },
  {
   "cell_type": "markdown",
   "metadata": {
    "application/vnd.databricks.v1+cell": {
     "cellMetadata": {},
     "inputWidgets": {},
     "nuid": "8d1df4d8-4b50-47d8-ad89-d3c80ce960ee",
     "showTitle": false,
     "title": ""
    }
   },
   "source": [
    "### Compare staged model to production model (if exists), keep better model in production"
   ]
  },
  {
   "cell_type": "code",
   "execution_count": null,
   "metadata": {
    "application/vnd.databricks.v1+cell": {
     "cellMetadata": {
      "byteLimit": 2048000,
      "rowLimit": 10000
     },
     "inputWidgets": {},
     "nuid": "9f7b7e14-b016-41c1-9852-aae0f6625e93",
     "showTitle": false,
     "title": ""
    }
   },
   "outputs": [],
   "source": [
    "client = MlflowClient()\n",
    "\n",
    "def get_stage_version(model_name, stage_name):\n",
    "  stages = client.get_latest_versions(model_name)\n",
    "  version = [i.version for i in stages if i.current_stage == stage_name]\n",
    "  return version[0] if version else '0'\n",
    "\n",
    "prod_version = get_stage_version(model_name, \"Production\")\n",
    "staging_version = get_stage_version(model_name, \"Staging\")\n",
    "\n",
    "if production_model:\n",
    "    prod_model_auc = roc_auc_score(y_test, production_model.predict(X_test))\n",
    "    print(f'Current production model AUC on test data: {prod_model_auc}')\n",
    "\n",
    "    if staged_model_auc > prod_model_auc:\n",
    "        print(\"Staged model outperforms current production model.\")\n",
    "        print(\"Archiving old production model\")\n",
    "        client.transition_model_version_stage(\n",
    "            name=model_name,\n",
    "            version=prod_version,\n",
    "            stage=\"Archived\",\n",
    "            )\n",
    "        print(\"Promoting staging to production\")\n",
    "        client.transition_model_version_stage(\n",
    "            name=model_name,\n",
    "            version=staging_version,\n",
    "            stage=\"Production\",\n",
    "            )\n",
    "        \n",
    "    else:\n",
    "        raise Exception(\"Staged model does not outperform current prod, exiting\")\n",
    "        \n",
    "else:\n",
    "    print(\"No production model found, promoting staging to production\")\n",
    "    client.transition_model_version_stage(\n",
    "        name=model_name,\n",
    "        version=staging_version,\n",
    "        stage=\"Production\",\n",
    "        )"
   ]
  },
  {
   "cell_type": "markdown",
   "metadata": {
    "application/vnd.databricks.v1+cell": {
     "cellMetadata": {},
     "inputWidgets": {},
     "nuid": "f284978e-9c9b-4cd2-8bdc-1393991c5701",
     "showTitle": false,
     "title": ""
    }
   },
   "source": [
    "The Models page now shows the best-performing model version in stage \"Production\".\n",
    "\n",
    "You can now refer to the model using the path \"models:/wine_quality/production\"."
   ]
  },
  {
   "cell_type": "code",
   "execution_count": null,
   "metadata": {
    "application/vnd.databricks.v1+cell": {
     "cellMetadata": {
      "byteLimit": 2048000,
      "rowLimit": 10000
     },
     "inputWidgets": {},
     "nuid": "58b22211-62ea-4fdd-a6ff-c552a65fa6e9",
     "showTitle": false,
     "title": ""
    }
   },
   "outputs": [],
   "source": [
    "model = mlflow.pyfunc.load_model(f\"models:/{model_name}/production\")\n",
    "\n",
    "# Sanity-check: This should match the AUC logged by MLflow\n",
    "print(f'AUC: {roc_auc_score(y_test, model.predict(X_test))}')"
   ]
  },
  {
   "cell_type": "code",
   "execution_count": null,
   "metadata": {
    "application/vnd.databricks.v1+cell": {
     "cellMetadata": {},
     "inputWidgets": {},
     "nuid": "f230ed54-368c-4acc-ac12-b18f45808af6",
     "showTitle": false,
     "title": ""
    }
   },
   "outputs": [],
   "source": []
  }
 ],
 "metadata": {
  "application/vnd.databricks.v1+notebook": {
   "dashboards": [],
   "language": "python",
   "notebookMetadata": {
    "pythonIndentUnit": 2
   },
   "notebookName": "part_1_3_evaluating",
   "widgets": {}
  },
  "language_info": {
   "name": "python"
  }
 },
 "nbformat": 4,
 "nbformat_minor": 0
}
